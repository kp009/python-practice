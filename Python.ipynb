{
  "nbformat": 4,
  "nbformat_minor": 0,
  "metadata": {
    "colab": {
      "provenance": []
    },
    "kernelspec": {
      "name": "python3",
      "display_name": "Python 3"
    },
    "language_info": {
      "name": "python"
    }
  },
  "cells": [
    {
      "cell_type": "code",
      "execution_count": null,
      "metadata": {
        "colab": {
          "base_uri": "https://localhost:8080/"
        },
        "id": "tCGTSX-ywq3-",
        "outputId": "c92cb7c1-74a6-4fa9-e3bd-f78beaad4cc2"
      },
      "outputs": [
        {
          "output_type": "stream",
          "name": "stdout",
          "text": [
            "{'New York'}\n",
            "{'San Francisco'}\n",
            "{'Los Angeles', 'Chicago', 'New York', 'San Francisco'}\n",
            "{'Los Angeles', 'San Francisco', 'Chicago', 'New Jersey'}\n"
          ]
        }
      ],
      "source": [
        "x = {\"New York\", \"Los Angeles\", \"Chicago\"}\n",
        "y = {\"Los Angeles\", \"Chicago\", \"San Francisco\"}\n",
        "print(x-y)\n",
        "print(y-x)\n",
        "print(x|y)\n",
        "y.add(\"New Jersey\")\n",
        "print(y)\n",
        "# 1. Print places you want to visit but your friend doesnt.\n",
        "# 2. Print places your friend want to visit but you dont.\n",
        "# 3. Print places you both want to visit.\n",
        "# 4. Add New Jersery to your friend's list."
      ]
    },
    {
      "cell_type": "code",
      "source": [
        "s= {1,2,3}\n",
        "s.add(4)\n",
        "s"
      ],
      "metadata": {
        "colab": {
          "base_uri": "https://localhost:8080/"
        },
        "id": "Yzy2D-USxDf5",
        "outputId": "d7680c1e-c124-4f39-9550-949ab01a4e3a"
      },
      "execution_count": null,
      "outputs": [
        {
          "output_type": "execute_result",
          "data": {
            "text/plain": [
              "{1, 2, 3, 4}"
            ]
          },
          "metadata": {},
          "execution_count": 3
        }
      ]
    },
    {
      "cell_type": "code",
      "source": [
        "s.update([5,6])"
      ],
      "metadata": {
        "id": "KlFsmfYWxPGq"
      },
      "execution_count": null,
      "outputs": []
    },
    {
      "cell_type": "code",
      "source": [
        "print(s)\n",
        "s.remove(3)"
      ],
      "metadata": {
        "colab": {
          "base_uri": "https://localhost:8080/"
        },
        "id": "WGNxZ-mIxmAh",
        "outputId": "cc25f4eb-aad7-4369-9f13-7785e61d386e"
      },
      "execution_count": null,
      "outputs": [
        {
          "output_type": "stream",
          "name": "stdout",
          "text": [
            "{1, 3, 4, 5, 6}\n"
          ]
        }
      ]
    },
    {
      "cell_type": "code",
      "source": [
        "s"
      ],
      "metadata": {
        "colab": {
          "base_uri": "https://localhost:8080/"
        },
        "id": "XzqEJv49xbqX",
        "outputId": "d4ff2a05-fd6a-4631-a76e-125afefb6aff"
      },
      "execution_count": null,
      "outputs": [
        {
          "output_type": "execute_result",
          "data": {
            "text/plain": [
              "{1, 4, 5, 6}"
            ]
          },
          "metadata": {},
          "execution_count": 10
        }
      ]
    },
    {
      "cell_type": "code",
      "source": [
        "#Dictionary\n",
        "person ={\"name\":\"Alice\",\"age\": 30, \"city\":\"New York\"}\n",
        "print(person)\n",
        "print(person[\"name\"])\n",
        "print(person)\n",
        "print(person[\"age\"])\n",
        "person[\"age\"] = 31\n",
        "print(person)\n",
        "print(person[\"city\"])\n",
        "person[\"job\"] = \"Engineer\"\n",
        "person"
      ],
      "metadata": {
        "colab": {
          "base_uri": "https://localhost:8080/"
        },
        "id": "jqZDUZofyEyt",
        "outputId": "8c42caed-58a2-439b-dcef-318242856b50"
      },
      "execution_count": null,
      "outputs": [
        {
          "output_type": "stream",
          "name": "stdout",
          "text": [
            "{'name': 'Alice', 'age': 30, 'city': 'New York'}\n",
            "Alice\n",
            "{'name': 'Alice', 'age': 30, 'city': 'New York'}\n",
            "30\n",
            "{'name': 'Alice', 'age': 31, 'city': 'New York'}\n",
            "New York\n"
          ]
        },
        {
          "output_type": "execute_result",
          "data": {
            "text/plain": [
              "{'name': 'Alice', 'age': 31, 'city': 'New York', 'job': 'Engineer'}"
            ]
          },
          "metadata": {},
          "execution_count": 13
        }
      ]
    },
    {
      "cell_type": "code",
      "source": [
        "car = {\"make\":\"Tesla\",\"model\": \"SUV\",\"year\": 2023,\"color\":\"red\"}\n",
        "print(car)\n",
        "print(car[\"year\"])\n",
        "print(car)\n",
        "car[\"color\"] = \"yellow\"\n",
        "print(car)\n",
        "car[\"price\"] = 50000\n",
        "car"
      ],
      "metadata": {
        "colab": {
          "base_uri": "https://localhost:8080/"
        },
        "id": "ZpCxh_vGy68w",
        "outputId": "6417a20a-9d47-4a5a-cf2c-e9b048bef7c6"
      },
      "execution_count": null,
      "outputs": [
        {
          "output_type": "stream",
          "name": "stdout",
          "text": [
            "{'make': 'Tesla', 'model': 'SUV', 'year': 2023, 'color': 'red'}\n",
            "2023\n",
            "{'make': 'Tesla', 'model': 'SUV', 'year': 2023, 'color': 'red'}\n",
            "{'make': 'Tesla', 'model': 'SUV', 'year': 2023, 'color': 'yellow'}\n"
          ]
        },
        {
          "output_type": "execute_result",
          "data": {
            "text/plain": [
              "{'make': 'Tesla',\n",
              " 'model': 'SUV',\n",
              " 'year': 2023,\n",
              " 'color': 'yellow',\n",
              " 'price': 50000}"
            ]
          },
          "metadata": {},
          "execution_count": 15
        }
      ]
    },
    {
      "cell_type": "code",
      "source": [
        "person = {\"name\": [\"Alice\",\"Bob\",\"John\"],\n",
        "          \"age\": [30,15,23],\n",
        "          \"city\": [\"New York\",\"Jersey\",\"Ohio\"]}\n",
        "\n",
        "person"
      ],
      "metadata": {
        "colab": {
          "base_uri": "https://localhost:8080/"
        },
        "id": "yWOEHUAMz6pt",
        "outputId": "2537dc9f-9c81-4a7b-bd5f-fd7953409762"
      },
      "execution_count": null,
      "outputs": [
        {
          "output_type": "execute_result",
          "data": {
            "text/plain": [
              "{'name': ['Alice', 'Bob', 'John'],\n",
              " 'age': [30, 15, 23],\n",
              " 'city': ['New York', 'Jersey', 'Ohio']}"
            ]
          },
          "metadata": {},
          "execution_count": 17
        }
      ]
    },
    {
      "cell_type": "code",
      "source": [
        "students = [\"Alice\",\"Bob\",\"Charlie\",\"David\",\"Eve\"] #list\n",
        "subjects = (\"Maths\", \"Science\",\"History\")#tuple\n",
        "submitted={\"Alice\",\"Charlie\",\"Eve\"} #set\n",
        "marks ={\"Alice\": 85, \"Bob\": 70, \"Charlie\": 90,\"David\": 60,\"Eve\": 95} #dic\n",
        "\n",
        "print(students[0])\n",
        "print(students[-1])\n",
        "students.append(\"Frank\")\n",
        "print(students)\n",
        "#subjects.add(\"Maths\")\n",
        "print(\"Tuples are immutable\")\n",
        "# Print the list of studentswho didn't submitted\n",
        "print(set(students)-submitted)\n",
        "#print the name of students who scored above 80 using the dictionary\n",
        "\n",
        "for student, score in marks.items():\n",
        "  if score > 80:\n",
        "    print(student)\n"
      ],
      "metadata": {
        "colab": {
          "base_uri": "https://localhost:8080/"
        },
        "id": "ALKk3ESv0r7Q",
        "outputId": "66716024-b8c7-4dea-dd1b-f6c835783fe8"
      },
      "execution_count": null,
      "outputs": [
        {
          "output_type": "stream",
          "name": "stdout",
          "text": [
            "Alice\n",
            "Eve\n",
            "['Alice', 'Bob', 'Charlie', 'David', 'Eve', 'Frank']\n",
            "Tuples are immutable\n",
            "{'David', 'Frank', 'Bob'}\n",
            "Alice\n",
            "Charlie\n",
            "Eve\n"
          ]
        }
      ]
    },
    {
      "cell_type": "code",
      "source": [
        "marks[\"Frank\"]= 77\n",
        "print(\"Frank\" in submitted)"
      ],
      "metadata": {
        "colab": {
          "base_uri": "https://localhost:8080/"
        },
        "id": "C9fvmHus4xhS",
        "outputId": "28b6a985-f78d-48c2-d8c5-831d7f06e879"
      },
      "execution_count": null,
      "outputs": [
        {
          "output_type": "stream",
          "name": "stdout",
          "text": [
            "False\n"
          ]
        }
      ]
    },
    {
      "cell_type": "code",
      "source": [
        "students"
      ],
      "metadata": {
        "colab": {
          "base_uri": "https://localhost:8080/"
        },
        "id": "-csNcrvM4-4L",
        "outputId": "fdefdfca-4470-4749-d04e-cefca1790912"
      },
      "execution_count": null,
      "outputs": [
        {
          "output_type": "execute_result",
          "data": {
            "text/plain": [
              "['Alice', 'Bob', 'Charlie', 'David', 'Eve', 'Frank']"
            ]
          },
          "metadata": {},
          "execution_count": 27
        }
      ]
    },
    {
      "cell_type": "code",
      "source": [
        "marks"
      ],
      "metadata": {
        "colab": {
          "base_uri": "https://localhost:8080/"
        },
        "id": "mQkA1_Fy5ExL",
        "outputId": "1bdf81b2-af42-41fb-81c9-ee824b890c46"
      },
      "execution_count": null,
      "outputs": [
        {
          "output_type": "execute_result",
          "data": {
            "text/plain": [
              "{'Alice': 85, 'Bob': 70, 'Charlie': 90, 'David': 60, 'Eve': 95, 'Frank': 77}"
            ]
          },
          "metadata": {},
          "execution_count": 28
        }
      ]
    },
    {
      "cell_type": "code",
      "source": [
        "cart =[\"laptop\",\"phone\",\"charger\",\"laptop\",\"mouse\",]"
      ],
      "metadata": {
        "id": "BJkTf0pK63jS"
      },
      "execution_count": null,
      "outputs": []
    },
    {
      "cell_type": "code",
      "source": [
        "# List of student names\n",
        "students = [\"Alice\", \"Bob\", \"Charlie\", \"David\", \"Eve\"]\n",
        "# Tuple of subject codes\n",
        "subjects = (\"Math\", \"Science\", \"History\")\n",
        "# Set of students who submitted the assignment\n",
        "submitted = {\"Alice\", \"Charlie\", \"Eve\"}\n",
        "# Dictionary of marks\n",
        "marks = {\n",
        "\"Alice\": 85,\n",
        "\"Bob\": 70,\n",
        "\"Charlie\": 90,\n",
        "\"David\": 60,\n",
        "\"Eve\": 95\n",
        "}\n",
        "\n",
        "# Mini Exercise: Student Management System\n",
        "# 1. Print the name of the first and last student using indexing.\n",
        "# 2. Add a new student \"Frank\" to the student list.\n",
        "# 3. Try adding \"Math\" again to the subjects tuple (What happens? Why?).\n",
        "# 4. Print the list of students who did not submit the assignment using set operations.\n",
        "# 5. Print the names of students who scored above 80 using the dictionary.\n",
        "# 6. Add \"Frank\" with marks 77 to the dictionary and check if he’s in the submitted set.\n",
        "# 7. Remove \"Bob\" from the student list and delete his entry from the marks dictionary."
      ],
      "metadata": {
        "id": "mAkC27Cv71EK"
      },
      "execution_count": 2,
      "outputs": []
    },
    {
      "cell_type": "code",
      "source": [
        "print(students[0])\n",
        "print(students[-1])"
      ],
      "metadata": {
        "colab": {
          "base_uri": "https://localhost:8080/"
        },
        "id": "us0e1CrBh0NT",
        "outputId": "03b11f6b-71cd-4caf-d831-09794e5135ef"
      },
      "execution_count": 3,
      "outputs": [
        {
          "output_type": "stream",
          "name": "stdout",
          "text": [
            "Alice\n",
            "Eve\n"
          ]
        }
      ]
    },
    {
      "cell_type": "code",
      "source": [
        "# 2. Add a new student \"Frank\" to the student list.\n",
        "students.append(\"Frank\")\n",
        "students"
      ],
      "metadata": {
        "colab": {
          "base_uri": "https://localhost:8080/"
        },
        "id": "p2COAXoyiJQ4",
        "outputId": "35be0e0d-9ad2-43ae-eb85-bca967a21218"
      },
      "execution_count": 6,
      "outputs": [
        {
          "output_type": "execute_result",
          "data": {
            "text/plain": [
              "['Alice', 'Bob', 'Charlie', 'David', 'Eve', 'Frank', 'Frank']"
            ]
          },
          "metadata": {},
          "execution_count": 6
        }
      ]
    },
    {
      "cell_type": "code",
      "source": [
        "# 3. Try adding \"Math\" again to the subjects tuple (What happens? Why?).\n",
        "subjects.add(\"Math\")"
      ],
      "metadata": {
        "colab": {
          "base_uri": "https://localhost:8080/",
          "height": 158
        },
        "id": "3sYw_TGtiX2c",
        "outputId": "fbf9ec02-e5fb-4cfd-e921-cc2434556971"
      },
      "execution_count": 10,
      "outputs": [
        {
          "output_type": "error",
          "ename": "AttributeError",
          "evalue": "'tuple' object has no attribute 'add'",
          "traceback": [
            "\u001b[0;31m---------------------------------------------------------------------------\u001b[0m",
            "\u001b[0;31mAttributeError\u001b[0m                            Traceback (most recent call last)",
            "\u001b[0;32m/tmp/ipython-input-10-921679735.py\u001b[0m in \u001b[0;36m<cell line: 0>\u001b[0;34m()\u001b[0m\n\u001b[1;32m      1\u001b[0m \u001b[0;31m# 3. Try adding \"Math\" again to the subjects tuple (What happens? Why?).\u001b[0m\u001b[0;34m\u001b[0m\u001b[0;34m\u001b[0m\u001b[0m\n\u001b[0;32m----> 2\u001b[0;31m \u001b[0msubjects\u001b[0m\u001b[0;34m.\u001b[0m\u001b[0madd\u001b[0m\u001b[0;34m(\u001b[0m\u001b[0;34m\"Math\"\u001b[0m\u001b[0;34m)\u001b[0m\u001b[0;34m\u001b[0m\u001b[0;34m\u001b[0m\u001b[0m\n\u001b[0m",
            "\u001b[0;31mAttributeError\u001b[0m: 'tuple' object has no attribute 'add'"
          ]
        }
      ]
    },
    {
      "cell_type": "code",
      "source": [
        "# 4. Print the list of students who did not submit the assignment using set operations.\n",
        "print(set(students)-submitted)"
      ],
      "metadata": {
        "colab": {
          "base_uri": "https://localhost:8080/"
        },
        "id": "voHtgFyiitHb",
        "outputId": "b2516b8d-d423-428f-ca2e-20002d408353"
      },
      "execution_count": 12,
      "outputs": [
        {
          "output_type": "stream",
          "name": "stdout",
          "text": [
            "{'David', 'Bob', 'Frank'}\n"
          ]
        }
      ]
    },
    {
      "cell_type": "code",
      "source": [
        "# 5. Print the names of students who scored above 80 using the dictionary.\n",
        "for students, score in marks.items():\n",
        "     if score > 80:\n",
        "        print(students)"
      ],
      "metadata": {
        "colab": {
          "base_uri": "https://localhost:8080/"
        },
        "id": "c2X-BD0xjazP",
        "outputId": "02b18264-080d-4b2a-a5bd-cb700ddba569"
      },
      "execution_count": 14,
      "outputs": [
        {
          "output_type": "stream",
          "name": "stdout",
          "text": [
            "Alice\n",
            "Charlie\n",
            "Eve\n"
          ]
        }
      ]
    },
    {
      "cell_type": "code",
      "source": [
        "# 6. Add \"Frank\" with marks 77 to the dictionary and check if he’s in the submitted set.\n",
        "marks[\"Frank\"] = 77\n",
        "print(marks)\n",
        "submitted"
      ],
      "metadata": {
        "colab": {
          "base_uri": "https://localhost:8080/"
        },
        "id": "-ftQJdErkHoH",
        "outputId": "2a2b1180-8248-47ac-f461-d006aea16e35"
      },
      "execution_count": 17,
      "outputs": [
        {
          "output_type": "stream",
          "name": "stdout",
          "text": [
            "{'Alice': 85, 'Bob': 70, 'Charlie': 90, 'David': 60, 'Eve': 95, 'Frank': 77}\n"
          ]
        },
        {
          "output_type": "execute_result",
          "data": {
            "text/plain": [
              "{'Alice', 'Charlie', 'Eve'}"
            ]
          },
          "metadata": {},
          "execution_count": 17
        }
      ]
    },
    {
      "cell_type": "code",
      "source": [
        "students = [\"Alice\", \"Bob\", \"Charlie\", \"David\", \"Eve\"]\n",
        "students"
      ],
      "metadata": {
        "colab": {
          "base_uri": "https://localhost:8080/"
        },
        "id": "Ph3N5QAGl-AT",
        "outputId": "e4f68cfe-022a-4154-99bd-b6c234f9cba8"
      },
      "execution_count": 23,
      "outputs": [
        {
          "output_type": "execute_result",
          "data": {
            "text/plain": [
              "['Alice', 'Bob', 'Charlie', 'David', 'Eve']"
            ]
          },
          "metadata": {},
          "execution_count": 23
        }
      ]
    },
    {
      "cell_type": "code",
      "source": [
        "# 7. Remove \"Bob\" from the student list and delete his entry from the marks dictionary.\n",
        "# marks.pop(\"Bob\")\n",
        "print(marks)\n",
        "print(students)\n",
        "\n",
        "students.remove(\"Bob\")\n",
        "print(students)\n"
      ],
      "metadata": {
        "colab": {
          "base_uri": "https://localhost:8080/"
        },
        "id": "302Hn5_llBXu",
        "outputId": "be7d2e6d-f246-471a-ee85-6aad6e2897d3"
      },
      "execution_count": 24,
      "outputs": [
        {
          "output_type": "stream",
          "name": "stdout",
          "text": [
            "{'Alice': 85, 'Charlie': 90, 'David': 60, 'Eve': 95, 'Frank': 77}\n",
            "['Alice', 'Bob', 'Charlie', 'David', 'Eve']\n",
            "['Alice', 'Charlie', 'David', 'Eve']\n"
          ]
        }
      ]
    },
    {
      "cell_type": "code",
      "source": [
        "# You’re managing a small e-commerce cart:\n",
        "# List of items in cart\n",
        "cart = [\"laptop\", \"phone\", \"charger\", \"laptop\", \"mouse\", \"phone\"]\n",
        "# Tuple of available categories\n",
        "categories = (\"electronics\", \"accessories\", \"home_appliances\")\n",
        "# Set of items on discount\n",
        "discount_items = {\"charger\", \"mouse\", \"keyboard\"}\n",
        "# Dictionary with item prices (in ₹)\n",
        "prices = {\n",
        "\"laptop\": 55000,\n",
        "\"phone\": 30000,\n",
        "\"charger\": 1000,\n",
        "\"mouse\": 700,\n",
        "\"Keyboard\": 1200\n",
        "}\n",
        "# Tasks\n",
        "# 1. Find how many unique items are in the cart.\n",
        "# 2. Print the total price of the cart (counting repeated items).\n",
        "# 3. List all items in the cart that are on discount.\n",
        "# 4. Try adding a new category to categories tuple (what happens?).\n",
        "# 5. Create a dictionary that maps each item in the cart to its quantity.\n",
        "# 6. Find the most expensive item in the cart."
      ],
      "metadata": {
        "id": "TRx4UMh28AnC"
      },
      "execution_count": 26,
      "outputs": []
    },
    {
      "cell_type": "code",
      "source": [
        "# 1. Find how many unique items are in the cart.\n",
        "\n",
        "print(cart)\n",
        "print(set(cart))\n"
      ],
      "metadata": {
        "colab": {
          "base_uri": "https://localhost:8080/"
        },
        "id": "qlYAefAZ9rA5",
        "outputId": "7a195138-c0b7-4439-e84c-962650bc833a"
      },
      "execution_count": 27,
      "outputs": [
        {
          "output_type": "stream",
          "name": "stdout",
          "text": [
            "['laptop', 'phone', 'charger', 'laptop', 'mouse', 'phone']\n",
            "{'mouse', 'phone', 'charger', 'laptop'}\n"
          ]
        }
      ]
    },
    {
      "cell_type": "code",
      "source": [
        "print(discount_items-set(cart))"
      ],
      "metadata": {
        "colab": {
          "base_uri": "https://localhost:8080/"
        },
        "id": "l-otp9IS_1FS",
        "outputId": "abe986bd-19ea-4301-b9ca-94dd9f9f049c"
      },
      "execution_count": null,
      "outputs": [
        {
          "output_type": "stream",
          "name": "stdout",
          "text": [
            "{'keyboard'}\n"
          ]
        }
      ]
    },
    {
      "cell_type": "code",
      "source": [
        "print(set(cart) -discount_items)"
      ],
      "metadata": {
        "colab": {
          "base_uri": "https://localhost:8080/"
        },
        "id": "7MQ9vCTbAUrD",
        "outputId": "d5b99884-ed69-4cc8-b7a7-db9c9d658c93"
      },
      "execution_count": null,
      "outputs": [
        {
          "output_type": "stream",
          "name": "stdout",
          "text": [
            "{'phone', 'laptop'}\n"
          ]
        }
      ]
    },
    {
      "cell_type": "code",
      "source": [
        "# 2. Print the total price of the cart (counting repeated items).\n",
        "totalprice = 0\n",
        "for item in cart:\n",
        "   item_price = prices.get(item, 0)\n",
        "   totalprice += item_price\n",
        "\n",
        "print(totalprice)\n"
      ],
      "metadata": {
        "colab": {
          "base_uri": "https://localhost:8080/"
        },
        "id": "V4sAseyYnPAd",
        "outputId": "149f2d3b-8c16-4ae9-d775-daac16b741a5"
      },
      "execution_count": 30,
      "outputs": [
        {
          "output_type": "stream",
          "name": "stdout",
          "text": [
            "171700\n"
          ]
        }
      ]
    },
    {
      "cell_type": "code",
      "source": [
        "# 3. List all items in the cart that are on discount.\n",
        "list_items = []\n",
        "for item in cart:\n",
        "  if item in discount_items:\n",
        "     list_items.append(item)\n",
        "print(list_items)\n"
      ],
      "metadata": {
        "colab": {
          "base_uri": "https://localhost:8080/"
        },
        "id": "csEVn-H0oyUw",
        "outputId": "6315b37e-bf8e-47f4-b3cb-ba42d34395cd"
      },
      "execution_count": 32,
      "outputs": [
        {
          "output_type": "stream",
          "name": "stdout",
          "text": [
            "['charger', 'mouse']\n"
          ]
        }
      ]
    },
    {
      "cell_type": "code",
      "source": [
        "# 4. Try adding a new category to categories tuple (what happens?).\n"
      ],
      "metadata": {
        "id": "IRxDGQZ7qABl"
      },
      "execution_count": null,
      "outputs": []
    }
  ]
}